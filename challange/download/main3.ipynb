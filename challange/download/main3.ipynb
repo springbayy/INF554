{
 "cells": [
  {
   "cell_type": "code",
   "execution_count": 39,
   "metadata": {},
   "outputs": [
    {
     "name": "stdout",
     "output_type": "stream",
     "text": [
      "Device: cuda:0\n"
     ]
    },
    {
     "data": {
      "text/plain": [
       "True"
      ]
     },
     "execution_count": 39,
     "metadata": {},
     "output_type": "execute_result"
    }
   ],
   "source": [
    "import numpy as np\n",
    "import json\n",
    "from pathlib import Path\n",
    "import scipy\n",
    "import sklearn\n",
    "from sklearn.tree import DecisionTreeClassifier\n",
    "from sentence_transformers import SentenceTransformer\n",
    "from xgboost import XGBClassifier\n",
    "from progress.bar import Bar\n",
    "import random\n",
    "import torch\n",
    "from ipywidgets import IntProgress\n",
    "from IPython.display import display\n",
    "from torchmetrics.classification import BinaryF1Score\n",
    "from sklearn.metrics import f1_score\n",
    "from tqdm import tqdm\n",
    "from funkisar import *\n",
    "from sklearn.decomposition import PCA\n",
    "\n",
    "device = torch.device(\"cuda:0\" if torch.cuda.is_available() else \"cpu\")\n",
    "print('Device:', device)\n",
    "torch.set_default_tensor_type('torch.cuda.FloatTensor')\n",
    "\n",
    "path_to_training = Path(\"training\")\n",
    "path_to_test = Path(\"test\")\n",
    "\n",
    "def flatten(list_of_list):\n",
    "    return [item for sublist in list_of_list for item in sublist]\n",
    "\n",
    "torch.cuda.is_available()\n"
   ]
  },
  {
   "cell_type": "code",
   "execution_count": 38,
   "metadata": {},
   "outputs": [],
   "source": [
    "training_set = ['ES2002', 'ES2005', 'ES2006', 'ES2007', 'ES2008', 'ES2009', 'ES2010', 'ES2012', 'ES2013', 'ES2015', 'ES2016', 'IS1000', 'IS1001', 'IS1002', 'IS1003', 'IS1004', 'IS1005', 'IS1006', 'IS1007', 'TS3005', 'TS3008', 'TS3009', 'TS3010', 'TS3011', 'TS3012']\n",
    "validation_set=['IS1000', 'ES2002']\n",
    "for thing in validation_set:\n",
    "    training_set.remove(thing)\n",
    "\n",
    "#training_set=['ES2005']"
   ]
  },
  {
   "cell_type": "code",
   "execution_count": 43,
   "metadata": {},
   "outputs": [
    {
     "data": {
      "text/plain": [
       "True"
      ]
     },
     "execution_count": 43,
     "metadata": {},
     "output_type": "execute_result"
    }
   ],
   "source": [
    "\n",
    "def get_Xtraining(collection):\n",
    "    missingSet=['IS1002a', 'IS1005d', 'TS3012c']\n",
    "\n",
    "    collection = flatten([[m_id+s_id for s_id in 'abcd'] for m_id in collection])\n",
    "    \n",
    "    for transcription_id in missingSet:\n",
    "        try:\n",
    "            collection.remove(transcription_id)\n",
    "        except:\n",
    "            pass\n",
    "\n",
    "    convolinesList= get_convolineList(collection)\n",
    "    bert = SentenceTransformer('all-mpnet-base-v2', device=device)\n",
    "    bert.to(\"cuda\")\n",
    "\n",
    "    print('encoding')\n",
    "    pbar = tqdm(total=len(convolinesList), desc=\"Encoding\")\n",
    "    X_training=np.zeros((768, 1))\n",
    "    for data in convolinesList:\n",
    "        branchesList= data[0]\n",
    "        seentenceList=data[2]\n",
    "        matrix=data[4]\n",
    "        #print(matrix)\n",
    "        #exit()\n",
    "\n",
    "        lastindex=branchesList[-1][-1]\n",
    "        \n",
    "\n",
    "        for index in range(lastindex+1):\n",
    "            convoIndex=[]\n",
    "            placeholder=index\n",
    "            for i in range(5):\n",
    "                if placeholder==0:\n",
    "                    break\n",
    "                search=matrix[placeholder,:]\n",
    "                prev=np.where(search==1)\n",
    "                prev=prev[0][0]\n",
    "                convoIndex.append(prev)\n",
    "                placeholder=prev\n",
    "\n",
    "            convo=''\n",
    "            for i in reversed(convoIndex):\n",
    "                convo=convo+seentenceList[i]+' '\n",
    "\n",
    "            #print('prevconvo: ', convo,'sentence: ', seentenceList[index])\n",
    "            \n",
    "            #print(convo, seentenceList[index])\n",
    "            encoded=bert.encode([seentenceList[index], convo])\n",
    "\n",
    "            encoded=np.array(encoded[0]+encoded[1])\n",
    "            encoded=np.reshape(encoded, (-1, 1))\n",
    "\n",
    "            #print(X_training.shape, encoded.shape)\n",
    "            \n",
    "            X_training=np.append(X_training, encoded, axis=1)\n",
    "  \n",
    "      \n",
    "        pbar.update(1)   \n",
    "    pbar.close()\n",
    "\n",
    "    return (X_training.T)\n",
    "\n",
    "torch.cuda.is_available()\n",
    "        "
   ]
  },
  {
   "cell_type": "code",
   "execution_count": 41,
   "metadata": {},
   "outputs": [],
   "source": [
    "def get_PCA(matrix, dim):\n",
    "    matrix = (matrix - matrix.mean(axis = 0)) / matrix.std(axis = 0)\n",
    "\n",
    "    pca=PCA(n_components=dim)\n",
    "\n",
    "    return pca.transform(matrix)\n",
    "      "
   ]
  },
  {
   "cell_type": "code",
   "execution_count": 44,
   "metadata": {},
   "outputs": [
    {
     "name": "stdout",
     "output_type": "stream",
     "text": [
      "encoding\n"
     ]
    },
    {
     "name": "stderr",
     "output_type": "stream",
     "text": [
      "Encoding:  43%|████▎     | 38/89 [32:59<1:21:01, 95.33s/it] "
     ]
    },
    {
     "ename": "KeyboardInterrupt",
     "evalue": "",
     "output_type": "error",
     "traceback": [
      "\u001b[1;31m---------------------------------------------------------------------------\u001b[0m",
      "\u001b[1;31mKeyboardInterrupt\u001b[0m                         Traceback (most recent call last)",
      "\u001b[1;32mc:\\Users\\maxrl\\OneDrive\\Dokument\\EP\\INF554\\challange\\download\\main3.ipynb Cell 5\u001b[0m line \u001b[0;36m1\n\u001b[1;32m----> <a href='vscode-notebook-cell:/c%3A/Users/maxrl/OneDrive/Dokument/EP/INF554/challange/download/main3.ipynb#W3sZmlsZQ%3D%3D?line=0'>1</a>\u001b[0m X_training\u001b[39m=\u001b[39m get_Xtraining(training_set)\n\u001b[0;32m      <a href='vscode-notebook-cell:/c%3A/Users/maxrl/OneDrive/Dokument/EP/INF554/challange/download/main3.ipynb#W3sZmlsZQ%3D%3D?line=1'>2</a>\u001b[0m X_validation\u001b[39m=\u001b[39mget_Xtraining(validation_set)\n\u001b[0;32m      <a href='vscode-notebook-cell:/c%3A/Users/maxrl/OneDrive/Dokument/EP/INF554/challange/download/main3.ipynb#W3sZmlsZQ%3D%3D?line=3'>4</a>\u001b[0m X_trainingCut\u001b[39m=\u001b[39mX_training[:,\u001b[39m0\u001b[39m:\u001b[39m384\u001b[39m]\n",
      "\u001b[1;32mc:\\Users\\maxrl\\OneDrive\\Dokument\\EP\\INF554\\challange\\download\\main3.ipynb Cell 5\u001b[0m line \u001b[0;36m5\n\u001b[0;32m     <a href='vscode-notebook-cell:/c%3A/Users/maxrl/OneDrive/Dokument/EP/INF554/challange/download/main3.ipynb#W3sZmlsZQ%3D%3D?line=50'>51</a>\u001b[0m         encoded\u001b[39m=\u001b[39mnp\u001b[39m.\u001b[39mreshape(encoded, (\u001b[39m-\u001b[39m\u001b[39m1\u001b[39m, \u001b[39m1\u001b[39m))\n\u001b[0;32m     <a href='vscode-notebook-cell:/c%3A/Users/maxrl/OneDrive/Dokument/EP/INF554/challange/download/main3.ipynb#W3sZmlsZQ%3D%3D?line=52'>53</a>\u001b[0m         \u001b[39m#print(X_training.shape, encoded.shape)\u001b[39;00m\n\u001b[1;32m---> <a href='vscode-notebook-cell:/c%3A/Users/maxrl/OneDrive/Dokument/EP/INF554/challange/download/main3.ipynb#W3sZmlsZQ%3D%3D?line=54'>55</a>\u001b[0m         X_training\u001b[39m=\u001b[39mnp\u001b[39m.\u001b[39;49mappend(X_training, encoded, axis\u001b[39m=\u001b[39;49m\u001b[39m1\u001b[39;49m)\n\u001b[0;32m     <a href='vscode-notebook-cell:/c%3A/Users/maxrl/OneDrive/Dokument/EP/INF554/challange/download/main3.ipynb#W3sZmlsZQ%3D%3D?line=57'>58</a>\u001b[0m     pbar\u001b[39m.\u001b[39mupdate(\u001b[39m1\u001b[39m)   \n\u001b[0;32m     <a href='vscode-notebook-cell:/c%3A/Users/maxrl/OneDrive/Dokument/EP/INF554/challange/download/main3.ipynb#W3sZmlsZQ%3D%3D?line=58'>59</a>\u001b[0m pbar\u001b[39m.\u001b[39mclose()\n",
      "File \u001b[1;32m<__array_function__ internals>:200\u001b[0m, in \u001b[0;36mappend\u001b[1;34m(*args, **kwargs)\u001b[0m\n",
      "File \u001b[1;32m~\\AppData\\Local\\Packages\\PythonSoftwareFoundation.Python.3.8_qbz5n2kfra8p0\\LocalCache\\local-packages\\Python38\\site-packages\\numpy\\lib\\function_base.py:5499\u001b[0m, in \u001b[0;36mappend\u001b[1;34m(arr, values, axis)\u001b[0m\n\u001b[0;32m   5497\u001b[0m     values \u001b[39m=\u001b[39m ravel(values)\n\u001b[0;32m   5498\u001b[0m     axis \u001b[39m=\u001b[39m arr\u001b[39m.\u001b[39mndim\u001b[39m-\u001b[39m\u001b[39m1\u001b[39m\n\u001b[1;32m-> 5499\u001b[0m \u001b[39mreturn\u001b[39;00m concatenate((arr, values), axis\u001b[39m=\u001b[39;49maxis)\n",
      "File \u001b[1;32m<__array_function__ internals>:200\u001b[0m, in \u001b[0;36mconcatenate\u001b[1;34m(*args, **kwargs)\u001b[0m\n",
      "\u001b[1;31mKeyboardInterrupt\u001b[0m: "
     ]
    }
   ],
   "source": [
    "X_training= get_Xtraining(training_set)\n",
    "X_validation=get_Xtraining(validation_set)\n",
    "\n",
    "X_trainingCut=X_training[:,0:384]\n",
    "X_validationCut=X_validation[:,0:384]"
   ]
  },
  {
   "cell_type": "code",
   "execution_count": 28,
   "metadata": {},
   "outputs": [],
   "source": [
    "def get_ylabels(set):\n",
    "\n",
    "    missingSet=['IS1002a', 'IS1005d', 'TS3012c']\n",
    "\n",
    "    set = flatten([[m_id+s_id for s_id in 'abcd'] for m_id in set])\n",
    "    \n",
    "    for transcription_id in missingSet:\n",
    "        try:\n",
    "            set.remove(transcription_id)\n",
    "        except:\n",
    "            pass\n",
    "\n",
    "    with open(\"training_labels.json\", \"r\") as file:\n",
    "        training_labels = json.load(file)\n",
    "    y=[]\n",
    "    for transcription_id in set:\n",
    "        y += training_labels[transcription_id]\n",
    "    \n",
    "    return y"
   ]
  },
  {
   "cell_type": "code",
   "execution_count": 36,
   "metadata": {},
   "outputs": [
    {
     "name": "stdout",
     "output_type": "stream",
     "text": [
      "None\n"
     ]
    },
    {
     "ename": "AxisError",
     "evalue": "axis 0 is out of bounds for array of dimension 0",
     "output_type": "error",
     "traceback": [
      "\u001b[1;31m---------------------------------------------------------------------------\u001b[0m",
      "\u001b[1;31mAxisError\u001b[0m                                 Traceback (most recent call last)",
      "\u001b[1;32mc:\\Users\\maxrl\\OneDrive\\Dokument\\EP\\INF554\\challange\\download\\main3.ipynb Cell 7\u001b[0m line \u001b[0;36m3\n\u001b[0;32m      <a href='vscode-notebook-cell:/c%3A/Users/maxrl/OneDrive/Dokument/EP/INF554/challange/download/main3.ipynb#X11sZmlsZQ%3D%3D?line=0'>1</a>\u001b[0m \u001b[39mprint\u001b[39m(X_training)\n\u001b[1;32m----> <a href='vscode-notebook-cell:/c%3A/Users/maxrl/OneDrive/Dokument/EP/INF554/challange/download/main3.ipynb#X11sZmlsZQ%3D%3D?line=2'>3</a>\u001b[0m X_training1\u001b[39m=\u001b[39mnp\u001b[39m.\u001b[39;49mdelete(X_training, \u001b[39m0\u001b[39;49m, axis\u001b[39m=\u001b[39;49m\u001b[39m0\u001b[39;49m)\n\u001b[0;32m      <a href='vscode-notebook-cell:/c%3A/Users/maxrl/OneDrive/Dokument/EP/INF554/challange/download/main3.ipynb#X11sZmlsZQ%3D%3D?line=3'>4</a>\u001b[0m X_trainingCut1\u001b[39m=\u001b[39mnp\u001b[39m.\u001b[39mdelete(X_trainingCut, \u001b[39m0\u001b[39m, axis\u001b[39m=\u001b[39m\u001b[39m0\u001b[39m)\n\u001b[0;32m      <a href='vscode-notebook-cell:/c%3A/Users/maxrl/OneDrive/Dokument/EP/INF554/challange/download/main3.ipynb#X11sZmlsZQ%3D%3D?line=4'>5</a>\u001b[0m X_validation1\u001b[39m=\u001b[39mnp\u001b[39m.\u001b[39mdelete(X_validation, \u001b[39m0\u001b[39m, axis\u001b[39m=\u001b[39m\u001b[39m0\u001b[39m)\n",
      "File \u001b[1;32m<__array_function__ internals>:200\u001b[0m, in \u001b[0;36mdelete\u001b[1;34m(*args, **kwargs)\u001b[0m\n",
      "File \u001b[1;32m~\\AppData\\Local\\Packages\\PythonSoftwareFoundation.Python.3.8_qbz5n2kfra8p0\\LocalCache\\local-packages\\Python38\\site-packages\\numpy\\lib\\function_base.py:5136\u001b[0m, in \u001b[0;36mdelete\u001b[1;34m(arr, obj, axis)\u001b[0m\n\u001b[0;32m   5134\u001b[0m     axis \u001b[39m=\u001b[39m ndim \u001b[39m-\u001b[39m \u001b[39m1\u001b[39m\n\u001b[0;32m   5135\u001b[0m \u001b[39melse\u001b[39;00m:\n\u001b[1;32m-> 5136\u001b[0m     axis \u001b[39m=\u001b[39m normalize_axis_index(axis, ndim)\n\u001b[0;32m   5138\u001b[0m slobj \u001b[39m=\u001b[39m [\u001b[39mslice\u001b[39m(\u001b[39mNone\u001b[39;00m)]\u001b[39m*\u001b[39mndim\n\u001b[0;32m   5139\u001b[0m N \u001b[39m=\u001b[39m arr\u001b[39m.\u001b[39mshape[axis]\n",
      "\u001b[1;31mAxisError\u001b[0m: axis 0 is out of bounds for array of dimension 0"
     ]
    }
   ],
   "source": [
    "\n",
    "X_training1=np.delete(X_training, 0, axis=0)\n",
    "X_trainingCut1=np.delete(X_trainingCut, 0, axis=0)\n",
    "X_validation1=np.delete(X_validation, 0, axis=0)\n",
    "X_validationCut1=np.delete(X_validationCut, 0, axis=0)\n",
    "\n",
    "y_training=get_ylabels(training_set)\n",
    "y_validation=get_ylabels(validation_set)\n",
    "\n",
    "print(X_training1.shape)\n",
    "print(len(y_training))\n",
    "\n",
    "X_trainingPCA=get_PCA(X_training1, 150)\n",
    "X_validationPCA=get_PCA(X_validation1, 150)\n",
    "X_trainingCutPCA=get_PCA(X_trainingCut1, 150)\n",
    "X_validationCutPCA=get_PCA(X_validationCut1, 150)\n"
   ]
  },
  {
   "cell_type": "code",
   "execution_count": null,
   "metadata": {},
   "outputs": [],
   "source": [
    "def get_f1score(X_training, y_training, X_validation, y_validation):\n",
    "    bst=XGBClassifier()\n",
    "    bst.fit(X_training, y_training)\n",
    "\n",
    "    preds=bst.predict(X_validation)\n",
    "    score=sklearn.metrics.f1_score(y_validation, preds)\n",
    "    return score"
   ]
  },
  {
   "cell_type": "code",
   "execution_count": null,
   "metadata": {},
   "outputs": [],
   "source": [
    "print(get_f1score(X_training, y_training, X_validation, y_validation))\n",
    "print(get_f1score(X_trainingCut, y_training, X_validationCut, y_validation))"
   ]
  }
 ],
 "metadata": {
  "kernelspec": {
   "display_name": "Python 3",
   "language": "python",
   "name": "python3"
  },
  "language_info": {
   "codemirror_mode": {
    "name": "ipython",
    "version": 3
   },
   "file_extension": ".py",
   "mimetype": "text/x-python",
   "name": "python",
   "nbconvert_exporter": "python",
   "pygments_lexer": "ipython3",
   "version": "3.8.10"
  }
 },
 "nbformat": 4,
 "nbformat_minor": 2
}
